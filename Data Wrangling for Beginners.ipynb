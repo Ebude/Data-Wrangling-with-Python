{
 "cells": [
  {
   "cell_type": "markdown",
   "metadata": {},
   "source": [
    "This workshop is geared towards beginners in data science and AI. To begin install python 3 ([download](https://www.python.org/downloads/release/python-382/)) or anacoda ([download](https://anaconda.org/))."
   ]
  },
  {
   "cell_type": "markdown",
   "metadata": {},
   "source": [
    "The following datasets would be used throughout this worksheet:\n",
    "\n",
    "- [IoT sensor dataset](https://drive.google.com/file/d/1xsiMGpOULuO3Ei2U4lyUpmtTLOVHaAB3/view?usp=sharing)\n",
    "- [Grid bikeshare data](https://drive.google.com/file/d/1mwQV2uDxRuEwULFdVKC8H9NZXRCkARkK/view?usp=sharing)"
   ]
  },
  {
   "cell_type": "markdown",
   "metadata": {},
   "source": [
    "## Content\n",
    " - Dealing with columns in a dataset\n",
    " - Selecting subsets and merging of datasets.\n",
    " - Visualization\n",
    " - Functions and Reusable code\n",
    " "
   ]
  },
  {
   "cell_type": "markdown",
   "metadata": {},
   "source": [
    "\n",
    "## Dealing with columns in a dataset\n",
    "Manipulating data columns, making them easy to interprete and use in analysis."
   ]
  },
  {
   "cell_type": "code",
   "execution_count": 1,
   "metadata": {},
   "outputs": [],
   "source": [
    "import pandas as pd #pip install pandas\n",
    "iot=pd.read_csv('iot_telemetry_data.csv')\n",
    "#iot.head(3)"
   ]
  },
  {
   "cell_type": "markdown",
   "metadata": {},
   "source": [
    "How to get more information on the dataset?"
   ]
  },
  {
   "cell_type": "code",
   "execution_count": 2,
   "metadata": {},
   "outputs": [],
   "source": [
    "#iot.shape # number rows and columns\n",
    "#iot.describe() # stats of numerical columns\n",
    "#iot.info() # types, number of rows\n",
    "#iot.isna().sum() # number of empty cells"
   ]
  },
  {
   "cell_type": "markdown",
   "metadata": {},
   "source": [
    "How to get information on functions?"
   ]
  },
  {
   "cell_type": "code",
   "execution_count": 3,
   "metadata": {},
   "outputs": [
    {
     "name": "stdout",
     "output_type": "stream",
     "text": [
      "Help on built-in function sum in module builtins:\n",
      "\n",
      "sum(iterable, start=0, /)\n",
      "    Return the sum of a 'start' value (default: 0) plus an iterable of numbers\n",
      "    \n",
      "    When the iterable is empty, return the start value.\n",
      "    This function is intended specifically for use with numeric values and may\n",
      "    reject non-numeric types.\n",
      "\n"
     ]
    }
   ],
   "source": [
    "#sum?\n",
    "help('sum')"
   ]
  },
  {
   "cell_type": "markdown",
   "metadata": {},
   "source": [
    "Handling timestamp in a dataset"
   ]
  },
  {
   "cell_type": "code",
   "execution_count": 4,
   "metadata": {},
   "outputs": [],
   "source": [
    "iot.ts=pd.to_datetime(iot['ts'], unit='s')\n",
    "#iot.head(3)"
   ]
  },
  {
   "cell_type": "markdown",
   "metadata": {},
   "source": [
    "The decimal points on the columns with type double."
   ]
  },
  {
   "cell_type": "code",
   "execution_count": 5,
   "metadata": {},
   "outputs": [],
   "source": [
    "iot[['co','lpg','smoke','temp']]=iot[['co','lpg','smoke','temp']].apply(lambda x:round(x,3))\n",
    "#iot.head(3)"
   ]
  },
  {
   "cell_type": "markdown",
   "metadata": {},
   "source": [
    "### Exercise I: \n",
    " \n",
    "We would look at the free bike dataset.\n",
    " \n",
    " 1. Import json file "
   ]
  },
  {
   "cell_type": "code",
   "execution_count": 6,
   "metadata": {},
   "outputs": [],
   "source": [
    "import json\n",
    "BShare=pd.read_json('free-bike-status-1.json')\n",
    "BShare=json.dumps(BShare.data[0])\n",
    "BShare=pd.read_json(BShare)\n",
    "#BShare.head(3)"
   ]
  },
  {
   "cell_type": "markdown",
   "metadata": {},
   "source": [
    "2. Removing unecessary info"
   ]
  },
  {
   "cell_type": "code",
   "execution_count": 7,
   "metadata": {},
   "outputs": [],
   "source": [
    "BShare['bike_id']=BShare['bike_id'].apply(lambda x:x.split('_')[1])\n",
    "#BShare.head()"
   ]
  },
  {
   "cell_type": "markdown",
   "metadata": {},
   "source": [
    "3. Save in Excel"
   ]
  },
  {
   "cell_type": "code",
   "execution_count": 8,
   "metadata": {},
   "outputs": [],
   "source": [
    "BShare['rec_update']=iot['ts'].iloc[:21]\n",
    "BShare.to_excel('bike-share.xlsx')\n",
    "\n",
    "iot.iloc[:100].to_excel('iot.xlsx')"
   ]
  },
  {
   "cell_type": "markdown",
   "metadata": {},
   "source": [
    "### Challenge I:\n",
    "\n",
    "1. Import bike-share excel file.\n",
    "2. Using the iot excel dataset, modify the device column by removing the colon that separate each term (for example 1c:bf:ce:15:ec:4d becomes 1cbfce15ec4d).\n",
    "\n",
    "## \tSelecting subsets and merging of datasets.\n",
    "Selecting the appropraite subset of a data to use as well as merging different datasets are very important."
   ]
  },
  {
   "cell_type": "code",
   "execution_count": 9,
   "metadata": {},
   "outputs": [
    {
     "data": {
      "text/html": [
       "<div>\n",
       "<style scoped>\n",
       "    .dataframe tbody tr th:only-of-type {\n",
       "        vertical-align: middle;\n",
       "    }\n",
       "\n",
       "    .dataframe tbody tr th {\n",
       "        vertical-align: top;\n",
       "    }\n",
       "\n",
       "    .dataframe thead th {\n",
       "        text-align: right;\n",
       "    }\n",
       "</style>\n",
       "<table border=\"1\" class=\"dataframe\">\n",
       "  <thead>\n",
       "    <tr style=\"text-align: right;\">\n",
       "      <th></th>\n",
       "      <th>device</th>\n",
       "      <th>co</th>\n",
       "      <th>smoke</th>\n",
       "    </tr>\n",
       "  </thead>\n",
       "  <tbody>\n",
       "    <tr>\n",
       "      <th>17</th>\n",
       "      <td>b8:27:eb:bf:9d:51</td>\n",
       "      <td>0.005</td>\n",
       "      <td>0.020</td>\n",
       "    </tr>\n",
       "    <tr>\n",
       "      <th>18</th>\n",
       "      <td>1c:bf:ce:15:ec:4d</td>\n",
       "      <td>0.004</td>\n",
       "      <td>0.019</td>\n",
       "    </tr>\n",
       "    <tr>\n",
       "      <th>19</th>\n",
       "      <td>b8:27:eb:bf:9d:51</td>\n",
       "      <td>0.005</td>\n",
       "      <td>0.020</td>\n",
       "    </tr>\n",
       "    <tr>\n",
       "      <th>20</th>\n",
       "      <td>00:0f:00:70:91:0a</td>\n",
       "      <td>0.003</td>\n",
       "      <td>0.014</td>\n",
       "    </tr>\n",
       "  </tbody>\n",
       "</table>\n",
       "</div>"
      ],
      "text/plain": [
       "               device     co  smoke\n",
       "17  b8:27:eb:bf:9d:51  0.005  0.020\n",
       "18  1c:bf:ce:15:ec:4d  0.004  0.019\n",
       "19  b8:27:eb:bf:9d:51  0.005  0.020\n",
       "20  00:0f:00:70:91:0a  0.003  0.014"
      ]
     },
     "execution_count": 9,
     "metadata": {},
     "output_type": "execute_result"
    }
   ],
   "source": [
    "#iot.iloc[:5] # selecting rows\n",
    "iot.loc[17:20,['device','co','smoke']] # select both rows and columns\n",
    "#iot.loc[:2,iot.columns[3:6]] # when we only know the position of the columns"
   ]
  },
  {
   "cell_type": "markdown",
   "metadata": {},
   "source": [
    "From the iot_telemery csv dataset, we would select the data of device b8:27:eb:bf:9d:51."
   ]
  },
  {
   "cell_type": "code",
   "execution_count": 10,
   "metadata": {},
   "outputs": [],
   "source": [
    "iot_d1=iot[iot.device=='b8:27:eb:bf:9d:51']\n",
    "#iot_d1.head(3)"
   ]
  },
  {
   "cell_type": "markdown",
   "metadata": {},
   "source": [
    "We can add more conditions"
   ]
  },
  {
   "cell_type": "code",
   "execution_count": 11,
   "metadata": {},
   "outputs": [],
   "source": [
    "iot_d1=iot[(iot.device=='b8:27:eb:bf:9d:51') & (iot.co>0.005)].loc[:, ['ts','device','temp','humidity']]\n",
    "#iot_d1.head(3)"
   ]
  },
  {
   "cell_type": "markdown",
   "metadata": {},
   "source": [
    "If just device b8:27:eb:bf:9d:51 is known and we dont want its information in the dataset"
   ]
  },
  {
   "cell_type": "code",
   "execution_count": 12,
   "metadata": {},
   "outputs": [],
   "source": [
    "iot_d2=iot[iot.device!='b8:27:eb:bf:9d:51'].loc[:, ['ts','device','temp','humidity']]\n",
    "#iot_d2.head(3)"
   ]
  },
  {
   "cell_type": "markdown",
   "metadata": {},
   "source": [
    "We would merge the two new datasets to reconstruct the old dataset."
   ]
  },
  {
   "cell_type": "code",
   "execution_count": 13,
   "metadata": {},
   "outputs": [],
   "source": [
    "#iot_d1.append(iot_d2) # most used method\n",
    "iot_d=pd.concat([iot_d1,iot_d2])\n",
    "#iot_d.tail(3)"
   ]
  },
  {
   "cell_type": "markdown",
   "metadata": {},
   "source": [
    "### Exercise II:\n",
    "\n",
    "1. Creating a vector from taking the last 30 elements in a column ts of iot_d2 and assign to first 30 elements in iot_d1, for example\n",
    "\\begin{equation*}\n",
    "x=[2,6,4,8,1,5,8,9],\\\\\n",
    "new_x=[9,8,5,1]\n",
    "\\end{equation*}"
   ]
  },
  {
   "cell_type": "code",
   "execution_count": 14,
   "metadata": {},
   "outputs": [],
   "source": [
    "iot_d1['ts'].values[:30]=iot_d2['ts'].values[-30:]\n",
    "#iot_d1.head(3)"
   ]
  },
  {
   "cell_type": "markdown",
   "metadata": {},
   "source": [
    "2.Create a new dataset of iot data merging iot_d1 and iot_d2 based on column ts."
   ]
  },
  {
   "cell_type": "code",
   "execution_count": 15,
   "metadata": {},
   "outputs": [],
   "source": [
    "iot_d=pd.merge(iot_d1,iot_d2, on='ts')\n",
    "#iot_d.head(3)"
   ]
  },
  {
   "cell_type": "markdown",
   "metadata": {},
   "source": [
    "\n",
    "3. Select the iot data which was recorded between 12/07/2020 to 15/07/2020."
   ]
  },
  {
   "cell_type": "code",
   "execution_count": 16,
   "metadata": {},
   "outputs": [],
   "source": [
    "iot_d3=iot[(iot.ts>'2020-07-12 00:00:00') & (iot.ts<'2020-07-16 00:00:00')]\n",
    "#iot_d3.head(3)"
   ]
  },
  {
   "cell_type": "markdown",
   "metadata": {},
   "source": [
    "### Challenge II\n",
    "\n",
    "1. Merge the new bike-share.xlsx and iot.xlsx depending on time\n",
    "2. Create a new dataset which is the subset of the one in 2. where the co value is greater than the mean value of the iot.xlsx dataset.\n",
    "\n",
    "##  Functions and Reusable code\n",
    "It is a good practice to build function out of the codes we use frequently instead of copying and pasting all over the script.\n",
    "\n",
    "- Function: \n",
    "We will use this as an example\n",
    "\n",
    "\\begin{equation*}\n",
    "x=\\frac{-b \\pm \\sqrt(b^2 -4ac)}{2a}\n",
    "\\end{equation*}\n"
   ]
  },
  {
   "cell_type": "code",
   "execution_count": 17,
   "metadata": {},
   "outputs": [],
   "source": [
    "import numpy as np\n",
    "def Quad(a,b,c):\n",
    "    if b^2-4*a*c >=0:\n",
    "        return [(-b-np.sqrt(b^2-4*a*c))/(2*a),(-b+np.sqrt(b^2-4*a*c))/(2*a)]\n",
    "    else:\n",
    "        A=-b/(2*a)\n",
    "        B= round(np.sqrt(-(b^2-4*a*c))/ (2*a),4)\n",
    "    return ['complex', A, B]"
   ]
  },
  {
   "cell_type": "code",
   "execution_count": 18,
   "metadata": {},
   "outputs": [
    {
     "data": {
      "text/plain": [
       "['complex', -0.5, 1.4142]"
      ]
     },
     "execution_count": 18,
     "metadata": {},
     "output_type": "execute_result"
    }
   ],
   "source": [
    "Quad(2,2,4)"
   ]
  },
  {
   "cell_type": "code",
   "execution_count": 19,
   "metadata": {},
   "outputs": [],
   "source": [
    "# function to read our json file\n",
    "def Read_json(js):\n",
    "    jsdf=pd.read_json(js)\n",
    "    jsdf=json.dumps(jsdf.data[0])\n",
    "    jsdf=pd.read_json(jsdf)\n",
    "    return jsdf"
   ]
  },
  {
   "cell_type": "markdown",
   "metadata": {},
   "source": [
    "- Process: This is a function without a return parameter"
   ]
  },
  {
   "cell_type": "code",
   "execution_count": 20,
   "metadata": {},
   "outputs": [],
   "source": [
    "# Process to convert json to excel\n",
    "def con_json_xlsx(js,name):\n",
    "    df=Read_json(js)\n",
    "    df.to_excel(name+'.xlsx')\n",
    "    \n",
    "# using the process    \n",
    "con_json_xlsx('free-bike-status-1.json','bike')"
   ]
  },
  {
   "cell_type": "markdown",
   "metadata": {},
   "source": [
    "Importing another python script and calling a function from it"
   ]
  },
  {
   "cell_type": "code",
   "execution_count": 21,
   "metadata": {},
   "outputs": [],
   "source": [
    "from docfile import *\n",
    "#add_4(2,5)"
   ]
  }
 ],
 "metadata": {
  "kernelspec": {
   "display_name": "Python 3",
   "language": "python",
   "name": "python3"
  },
  "language_info": {
   "codemirror_mode": {
    "name": "ipython",
    "version": 3
   },
   "file_extension": ".py",
   "mimetype": "text/x-python",
   "name": "python",
   "nbconvert_exporter": "python",
   "pygments_lexer": "ipython3",
   "version": "3.7.3"
  }
 },
 "nbformat": 4,
 "nbformat_minor": 2
}
